{
 "cells": [
  {
   "cell_type": "code",
   "execution_count": null,
   "metadata": {
    "collapsed": true,
    "deletable": true,
    "editable": true
   },
   "outputs": [],
   "source": [
    "# when should we use a list or a dictionary?\n"
   ]
  },
  {
   "cell_type": "code",
   "execution_count": 1,
   "metadata": {
    "collapsed": false,
    "deletable": true,
    "editable": true
   },
   "outputs": [
    {
     "name": "stdout",
     "output_type": "stream",
     "text": [
      "35018\n",
      "2236 0.06385287566394426 0.15372980405637676\n"
     ]
    }
   ],
   "source": [
    "# so: how many tweets written by Donald Trump (and only by him!) contain the word \"great\"?\n",
    "\n",
    "import json\n",
    "\n",
    "with open('../datasets/trump.json') as f:\n",
    "    tweets = json.load(f)\n",
    "\n",
    "print (len(tweets))\n",
    "\n",
    "written_by_trump = 0\n",
    "with_great = 0\n",
    "for tweet in tweets:\n",
    "    if \"Android\" in tweet[\"source\"]:\n",
    "        text = tweet[\"text\"]\n",
    "        written_by_trump += 1\n",
    "        if \"great\" in text.lower():\n",
    "            with_great += 1\n",
    "        \n",
    "print (with_great, with_great/len(tweets),with_great/written_by_trump)"
   ]
  },
  {
   "cell_type": "code",
   "execution_count": 7,
   "metadata": {
    "collapsed": false
   },
   "outputs": [
    {
     "name": "stdout",
     "output_type": "stream",
     "text": [
      "0.txt\n",
      "1.txt\n",
      "10.txt\n",
      "11.txt\n",
      "12.txt\n",
      "13.txt\n",
      "15.txt\n",
      "16.txt\n",
      "18.txt\n",
      "19.txt\n",
      "2.txt\n",
      "3.txt\n",
      "4.txt\n",
      "5.txt\n",
      "6.txt\n",
      "7.txt\n",
      "8.txt\n",
      "9.txt\n"
     ]
    }
   ],
   "source": [
    "# we need a few libraries\n",
    "#os is needed to loop over files in a folder\n",
    "# codecs is for encoding a file\n",
    "#BeautifulSoup is needed for parsing the html of a scraped page\n",
    "\n",
    "import codecs,os\n",
    "from bs4 import BeautifulSoup\n",
    "\n",
    "# we prepare an empty list\n",
    "articles = []\n",
    "\n",
    "# we loop over a folder\n",
    "for filename in os.listdir(\"../datasets/Articles/\"):\n",
    "    # we check if the file is a txt file\n",
    "    if \".txt\" in filename:\n",
    "        print (filename)\n",
    "        # we open and read the file\n",
    "        doc = open(\"../datasets/Articles/\"+filename,\"r\")\n",
    "        doc = doc.read()\n",
    "        \n",
    "        # look at the original HTML - we remove the internet archive toolbar\n",
    "        html_page = str(doc).split(\"<!-- END WAYBACK TOOLBAR INSERT -->\")[1]\n",
    "            \n",
    "        # we parse the page\n",
    "        html_page = BeautifulSoup(html_page, \"lxml\")\n",
    "        \n",
    "        \n",
    "        # we open a new file in writing mode (using codecs) / we need to create the \"CleanedArticles\" folder if it's not there\n",
    "        output = codecs.open(\"../datasets/CleanedArticles/\"+filename,\"w\",\"utf-8\")\n",
    "        \n",
    "        # we define a new list, called text\n",
    "        text = []\n",
    "\n",
    "        # simply take all the paragraphs - we search for the elements \"p\"\n",
    "        for para in html_page.find_all('p'):\n",
    "            # we remove breaklines, tabs etc\n",
    "            para = para.text.replace(\"\\n\",\" \").replace(\"\\t\",\" \").replace(\"\\r\",\" \")\n",
    "            text.append(para)\n",
    "        \n",
    "        # we put all paragraphs in a single text\n",
    "        text = \" \".join(text)\n",
    "        # we write the text to the output file\n",
    "        output.write(text)\n",
    "        # we close the output file\n",
    "        output.close()\n",
    "        # we add the text to a list of articles\n",
    "        articles.append(text)"
   ]
  },
  {
   "cell_type": "code",
   "execution_count": 8,
   "metadata": {
    "collapsed": false,
    "deletable": true,
    "editable": true
   },
   "outputs": [
    {
     "name": "stdout",
     "output_type": "stream",
     "text": [
      "In ways that were once unimaginable, President Trump has discarded the conventions and norms established by his predecessors. Will that change the institution permanently? By PETER BAKERDEC. 31, 2017  WASHINGTON — When President Trump meets with aides to discuss policy or prepare for a speech, he may ask about the pros and cons of a new proposal. He may inquire about its possible effect. He may explore the best way to frame his case. But there is one thing he almost never does. “He very seldom asks how other presidents did this,” said John F. Kelly, the White House chief of staff. Mr. Trump is the 45th president of the United States, but he has spent much of his first year in office defying the conventions and norms established by the previous 44, and transforming the presidency in ways that were once unimaginable. Under Mr. Trump, it has become a blunt instrument to advance personal, policy and political goals. He has revolutionized the way presidents deal with the world beyond 1600 Pennsylvania Avenue, dispensing with the carefully modulated messaging of past chief executives in favor of no-holds-barred, crystal-breaking, us-against-them, damn-the-consequences blasts borne out of gut and grievance. Advertisement He has kept a business on the side; attacked the F.B.I., C.I.A. and other institutions he oversees; threatened to use his power against rivals; and waged war against members of his own party and even his own cabinet. He fired the man investigating his campaign and has not ruled out firing the one who took over. He has appealed to base instincts on race, religion and gender as no president has in generations. And he has rattled the nuclear saber more bombastically than it has been since the days of Hiroshima and Nagasaki. Advertisement The presidency has served as a vehicle for Mr. Trump to construct and promote his own narrative, one with crackling verve but riddled with inaccuracies, distortions and outright lies, according to fact checkers. Rather than a force for unity or a calming voice in turbulent times, the presidency now is another weapon in a permanent campaign of divisiveness. Democrats and many establishment Republicans worry that Mr. Trump has squandered the moral authority of the office. “We’re seeing the presidency completely and utterly transformed in a way I don’t think we’ve seen since before the Civil War,” said Jeffrey A. Engel, the director of the Center for Presidential History at Southern Methodist University and the author of “When the World Seemed New” about President George Bush. “Trump is arguing that we need to take care of my enemies. I really can’t think of any precedent.” What worries insiders has electrified many on the outside. Mr. Trump has cast aside the mythology of a magisterial presidency removed from the people in favor of a reality-show accessibility that strikes a chord in parts of the country alienated by the establishment. That indifference to the way things have always been done has energized Mr. Trump’s core supporters, who cheer his efforts to destroy political correctness, take on smug elites and smash a self-interested system that, in their view, has shafted everyday Americans. “The norms and conventions are exactly what he ran against and, in his view, are why we’re in the fix we’re in,” Mr. Kelly said in an interview. “He doesn’t intentionally make decisions that are opposite, say, of what a previous president would make. He’s got a view of what’s better for America.” In upending the traditional dynamics of governance, Mr. Trump has made himself the most dominant figure in American life even as polls show that he is also the most unpopular first-year president in modern history. He is testing the proposition that a president can still effectively remake the country without securing or even seeking a broader mandate. “You’ve got someone who is defining the presidency very differently,” said Michael Beschloss, the presidential historian. “Trump is essentially saying, ‘I’m not going to operate just within the boundaries that the founders might have expected or people might have expected for 200 years. I’m going to operate within the boundaries of what is strictly legal, and I’m going to push those boundaries if I can.’” Not just push. Mr. Trump has shattered boundaries, at least those his predecessors observed. “Everyone else seemed to play within a certain box,” said William M. Daley, who served two presidents, first as a cabinet secretary under Bill Clinton and then as White House chief of staff under Barack Obama. “But this one is totally outside the box.” Advertisement In recent times, most presidents have sought to expand the power of their office, and Mr. Trump has continued that trend. Just as Mr. Obama, frustrated by opposition in Congress, made ambitious use of his executive power, only to be reined in at times by the courts, Mr. Trump has turned to his presidential pen to enact sweeping policies. But he has bristled at the restraints imposed on the presidency as few have, lashing out at judges, lawmakers, investigators and journalists who anger him and expressing frustration that he is not supposed to use the F.B.I. as he sees fit. His sense of government is not based on coalition building or a balancing act between equal branches. It is one where he deems what is necessary and the system should fall in line. As he told The New York Times in recent days, he believes he has an “absolute right” to order the Justice Department to open or close investigations into himself or his foes. Some lawyers say he has a point, that the Constitution gives him wide latitude over the executive branch. But since Watergate, at least, no other president would publicly assert such power in such a raw political fashion, and critics have warned that thwarting the special counsel’s Russia investigation could lead to impeachment proceedings. Talk of “absolute” power and a noted affinity for foreign strongmen have fueled fears of authoritarianism. For the most part, Mr. Trump, with some notable exceptions, has demonstrated more bark than bite. But that bark has become a power unto itself, and the question remains whether he will follow through on his threats in the next stage of his tenure or whether his attacks will prove ultimately self-defeating. Mr. Trump is creating precedents that may outlast his tenure. He is making the presidency more authentic or more autocratic, depending on the vantage point. Either way, it may never be the same. Presidents are human, too, a blend of varying degrees of idealism, generosity, empathy, ambition, ego, vanity, jealousy and anger, but they generally hide their unvarnished traits behind an official veneer. Call it decorum, call it presidential. Mr. Trump essentially calls it fake, making no effort to pretend to be above it all, except to boast that he is stronger, richer, smarter and more successful than anyone else. To him, the presidency is about winning, not governing. The first president never to have served in government or military service, Mr. Trump repeatedly jumps the guardrails that his predecessors heeded. When the mayor of San Juan, P.R., complained about federal recovery efforts after the island was ravaged by Hurricane Maria, Mr. Trump dismissed her as “nasty.” When he did not receive enough gratitude for helping to free three American college basketball players from China, he exclaimed, “I should have left them in jail!” He distorted a comment by the Muslim mayor of London to paint him as soft on terrorism. He accused Mr. Obama of tapping Trump Tower, calling him a “Bad (or sick) guy!” — a claim Mr. Trump’s own Justice Department rejected. He said there were “very fine people on both sides” of a white supremacist rally and counterprotest in Charlottesville, Va. He endorsed an accused child molester for Senate. Advertisement He called various targets of his ire “crazy,” “psycho,” “short and fat,” “crooked,” “totally inept,” “a joke,” “dumb as a rock,” “disgusting,” “puppet,” “weak and out of control,” “sleazy,” “wacky,” “totally unhinged,” “incompetent,” “lightweight” and “the dumbest man on television.” Among others. Even in small ways, Mr. Trump has broken presidential protocol. Presidents generally do not talk about daily gyrations of the stock markets or tout corporate expansion plans, seeing it as inappropriate. But Mr. Trump eagerly trumpets market increases, making them a substitute metric for success given his anemic poll numbers, and claims credit for corporate decisions with the gusto of a mayor or governor, whether related to his policies or not. To supporters, his willingness to say anything and take on anyone comes across as refreshing. “One thing he’s done to the Oval Office and our political culture as a whole is brought a lot more authenticity than people have been used to from politicians,” said Andy Surabian, a senior adviser to the Great America Alliance, a Trump-aligned group. “Whatever you think of him from an ideological point of view, I think for the first time in my lifetime, you have someone in the Oval Office who doesn’t seem plastic.” “You hear all the time he’s not presidential,” he added. “But I say to myself, ‘That’s why he won.’” Other presidents have experimented with how they communicated to the public and were criticized for diminishing the dignity of the office, only to have their innovations become standard fare for their successors. Franklin D. Roosevelt instituted fireside chats on the radio. Dwight D. Eisenhower inaugurated news conferences on television. John F. Kennedy allowed the briefings to be aired live instead of taped and edited. Those presidents, however, did not use their platforms as weapons as Mr. Trump has. And they presided over serious, if sometimes unwieldy, policymaking structures designed to inform their decisions. Mr. Trump’s decisions, announced over Twitter, often seem like spur-of-the-moment reactions to something he has seen on television.  “He is a one-man show,” said Shirley Anne Warshaw of Gettysburg College, the author of nine books on presidential decision making. By her count, Mr. Trump has filled only about 350 of 469 positions on the White House staff. “He just doesn’t need them.” Indeed, even those slots do not stay filled for long. A new Brookings Institution study found a 34 percent turnover rate in Mr. Trump’s White House, more than twice as high as any first-year personnel change in the 40 years examined. Advertisement “It’s a presidency of one person,” said Ron Klain, a White House official under Mr. Clinton and Mr. Obama. “That’s really kind of a stunning thing. There is no Trump doctrine. There is no Trump plan. There is no Trumpism. There’s just Trump. Whatever Trump says is what Trump is. No one else speaks for him.”  Please verify you're not a robot by clicking the box. Invalid email address. Please re-enter. You must select a newsletter to subscribe to. View all New York Times newsletters. Even Mr. Kelly, a retired four-star Marine general who took over in July as chief of staff, has met the limits of his ability to guide the president. Rather than seek to control Mr. Trump, Mr. Kelly has tried to control the information that gets to him and make sure it is vetted. The structure he has established resembles that of previous presidents. That does not mean Mr. Trump adheres to it. “I’m not put on earth to control him,” Mr. Kelly said. “But I have been put on earth to make this staff work better and make sure this president, whether you voted for him or not, is fully informed before he makes a decision. And I think we achieved that.” “He remains fairly unconventional,” he added. “But as I point out, he now is fully briefed on the issues and the pluses and minuses, pros and cons.” On three successive days last summer, Mr. Trump made threats to use the power of the government to punish perceived adversaries. He warned that he would eliminate the N.F.L.’s tax break, revoke NBC’s broadcast license and pull recovery workers out of hurricane-ravaged Puerto Rico after criticism of his efforts. Never mind that he could not really carry out such threats — the N.F.L. had already surrendered its tax break, networks like NBC are not licensed and federal law bars recovery workers from leaving a disaster scene prematurely. Over 72 hours, Mr. Trump had nonetheless demonstrated that he had brought his personal mottos, “always get even” and “hit back harder than you were hit,” to the White House. “It’s a war against all. It’s a Beltway bar fight. And you use every possible advantage, every possible weapon,” said Jon Meacham, who has written biographies of multiple presidents. “Will part of the Trump legacy be a permanent state of political and media warfare? I hate to say it — my gut says yeah. But I hope I’m wrong.” Other presidents were not exactly pushovers. Theodore Roosevelt relished taking on tycoons of his era. Lyndon B. Johnson and Richard M. Nixon used government agencies to spy on those who angered them. Mr. Clinton pummeled his tormentor, the independent counsel Kenneth W. Starr, and George W. Bush at times suggested opponents were soft on terrorism. Mr. Johnson, Mr. Nixon, Mr. Bush, Mr. Clinton and Mr. Obama likewise complained bitterly at times about the news media or even threatened or took legal action. But since Watergate, no president has waged the sort of sustained public campaign against what Mr. Trump has called the “enemy of the American people.”  Advertisement Most presidents believed that their role was to lead the country as a whole, not just a faction. They let most slights roll off their back lest they look petty and thin skinned. And outside of campaign season, they generally sought to avoid at least the appearance of divisiveness. “These other presidents all had a kind of regard for the office and they were intent on not besmirching it,” said Robert Dallek, whose biography, “Franklin D. Roosevelt: A Political Life,” was published in November. “This is a man, Trump, who has no compunctions about attacking people in ways that diminish the office of the president.” The president’s supporters would say those people had it coming, that Mr. Trump has simply called out a corrupt establishment. Yet with repeated attacks on “so-called” judges, the “fake news” media, the “laughingstock” justice system, Congress and agencies of his own government, critics say Mr. Trump has degraded the credibility of major institutions. “One way he’s changed the institution is that most presidents see themselves as trustees of the democracy,” said David Axelrod, a senior adviser to Mr. Obama. “And while every president is irritated by the limitations of democracy on them, they all grudgingly accept it. He has not. He has waged war on the institutions of democracy from the beginning, and I think in a very corrosive way.” Mr. Trump’s bellicosity may alienate many voters, but it has kept him a force in Washington beyond what other presidents with approval ratings in the 30s might expect. While lawmakers and lobbyists normally smell weakness in an unpopular White House and disregard its wishes, other players in the capital remain reluctant to cross Mr. Trump lest they find themselves on the wrong end of a Twitter blast. “He’s transformed the bully pulpit like no other president,” said Christopher Ruddy, the chief executive of Newsmax Media and a friend of Mr. Trump’s. “He’s not really been a traditional president on many levels,” but “he’s empowered the president and made the presidency stronger.” Patrick H. Caddell, who served as a strategist for another outsider who won the presidency, Jimmy Carter, and shared research last year with Mr. Trump’s campaign, said he wonders whether there could be a “burnout factor” from so much fighting. “Trump is at war, but I don’t think he’s thought through the war,” he said. “This is not healthy when a president bashes certain institutions or questions the motivations of certain people, though some probably deserve it. Nor is it healthy when the media and the elite question the president’s very character.” If Mr. Trump’s unconventional presidency succeeds, he could set a new paradigm for the presidency. If he fails, it would be a cautionary tale for his successors. Advertisement “There are a lot of changes — whether they are successful in the long run, time will tell,” said Stuart Spencer, who was a longtime adviser to Presidents Gerald R. Ford and Ronald Reagan. “But I’m sure the next president will take note.” The next president may feel compelled to be more interactive with the public even as he or she feels less compelled to release tax returns or White House entry logs because Mr. Trump refused to. The next president may feel more emboldened to take on entrenched interests or less worried about stretching the truth. “If he can get away with it, then why can’t other people?” asked Eliot A. Cohen, a State Department counselor under George W. Bush and one of Mr. Trump’s fiercest Republican critics. “The good news is he’s been so incompetent and he’s got such a short attention span. But what happens if you get Huey Long next time, which would be a lot scarier?” Some critics predict that Mr. Trump will provoke a backlash that will motivate the next president to show that he or she is the opposite. “People are going to want more ethics in government,” said Richard W. Painter, the White House ethics lawyer for Mr. Bush. “They’re going to take conflict of interest more seriously. They’re going to take obstruction of justice more seriously.” Mr. Axelrod agreed, foreseeing a demand for a return to decorum. But, he added, “The question is, ‘Can you do so much damage to public confidence in these institutions that that can’t be restored?’” The presidency has shifted back and forth before. Mr. Carter, seeking to remedy what he saw as Mr. Nixon’s imperial presidency, tried to demystify the office by walking the route of his inaugural parade, carrying his own luggage, selling the presidential yacht and initially eschewing the playing of “Hail to the Chief.” Mr. Reagan made a point of restoring the more ceremonial, regal trappings of the presidency. “Things go in cycles,” said Doris Kearns Goodwin, an author of books on Abraham Lincoln, Kennedy, Johnson and both Roosevelts. “The hope would be that given the American people’s reaction to the way he’s handled the presidency, the people running next time will run in the opposite direction.” Martha Joynt Kumar, a retired professor who has studied the presidency for years from the vantage point of the White House briefing room, said it has adapted to all sorts of changes in society. “The presidency has been a durable institution,” she said, “and I’m betting on it that it can handle almost anything.” Follow Peter Baker on Twitter: @peterbakernyt. A version of this article appears in print on December 31, 2017, on Page A1 of the New York edition with the headline: Under Trump, a Once Unimaginable Presidency Becomes Reality.  Order Reprints| Today's Paper|Subscribe   We’re interested in your feedback on this page. Tell us what you think. Go to Home Page »\n"
     ]
    }
   ],
   "source": [
    "# let's take the first article of the list of articles\n",
    "article = articles[0]\n",
    "print (article)"
   ]
  },
  {
   "cell_type": "code",
   "execution_count": null,
   "metadata": {
    "collapsed": false,
    "scrolled": true
   },
   "outputs": [],
   "source": [
    "# we need nltk - one of the most used text processing library in python\n",
    "\n",
    "import nltk # --> documentation: http://www.nltk.org/\n",
    "\n",
    "# you will also need this\n",
    "nltk.download('punkt')"
   ]
  },
  {
   "cell_type": "code",
   "execution_count": 11,
   "metadata": {
    "collapsed": false,
    "deletable": true,
    "editable": true
   },
   "outputs": [
    {
     "name": "stdout",
     "output_type": "stream",
     "text": [
      "In ways that were once unimaginable, President Trump has discarded the conventions and norms established by his predecessors.\n",
      " \n",
      "Will that change the institution permanently?\n",
      " \n",
      "By PETER BAKERDEC.\n",
      " \n",
      "31, 2017  WASHINGTON — When President Trump meets with aides to discuss policy or prepare for a speech, he may ask about the pros and cons of a new proposal.\n",
      " \n",
      "He may inquire about its possible effect.\n",
      " \n",
      "He may explore the best way to frame his case.\n",
      " \n",
      "But there is one thing he almost never does.\n",
      " \n",
      "“He very seldom asks how other presidents did this,” said John F. Kelly, the White House chief of staff.\n",
      " \n",
      "Mr. Trump is the 45th president of the United States, but he has spent much of his first year in office defying the conventions and norms established by the previous 44, and transforming the presidency in ways that were once unimaginable.\n",
      " \n",
      "Under Mr. Trump, it has become a blunt instrument to advance personal, policy and political goals.\n",
      " \n",
      "He has revolutionized the way presidents deal with the world beyond 1600 Pennsylvania Avenue, dispensing with the carefully modulated messaging of past chief executives in favor of no-holds-barred, crystal-breaking, us-against-them, damn-the-consequences blasts borne out of gut and grievance.\n",
      " \n",
      "Advertisement He has kept a business on the side; attacked the F.B.I., C.I.A.\n",
      " \n",
      "and other institutions he oversees; threatened to use his power against rivals; and waged war against members of his own party and even his own cabinet.\n",
      " \n",
      "He fired the man investigating his campaign and has not ruled out firing the one who took over.\n",
      " \n",
      "He has appealed to base instincts on race, religion and gender as no president has in generations.\n",
      " \n",
      "And he has rattled the nuclear saber more bombastically than it has been since the days of Hiroshima and Nagasaki.\n",
      " \n",
      "Advertisement The presidency has served as a vehicle for Mr. Trump to construct and promote his own narrative, one with crackling verve but riddled with inaccuracies, distortions and outright lies, according to fact checkers.\n",
      " \n",
      "Rather than a force for unity or a calming voice in turbulent times, the presidency now is another weapon in a permanent campaign of divisiveness.\n",
      " \n",
      "Democrats and many establishment Republicans worry that Mr. Trump has squandered the moral authority of the office.\n",
      " \n",
      "“We’re seeing the presidency completely and utterly transformed in a way I don’t think we’ve seen since before the Civil War,” said Jeffrey A. Engel, the director of the Center for Presidential History at Southern Methodist University and the author of “When the World Seemed New” about President George Bush.\n",
      " \n",
      "“Trump is arguing that we need to take care of my enemies.\n",
      " \n",
      "I really can’t think of any precedent.” What worries insiders has electrified many on the outside.\n",
      " \n",
      "Mr. Trump has cast aside the mythology of a magisterial presidency removed from the people in favor of a reality-show accessibility that strikes a chord in parts of the country alienated by the establishment.\n",
      " \n",
      "That indifference to the way things have always been done has energized Mr. Trump’s core supporters, who cheer his efforts to destroy political correctness, take on smug elites and smash a self-interested system that, in their view, has shafted everyday Americans.\n",
      " \n",
      "“The norms and conventions are exactly what he ran against and, in his view, are why we’re in the fix we’re in,” Mr. Kelly said in an interview.\n",
      " \n",
      "“He doesn’t intentionally make decisions that are opposite, say, of what a previous president would make.\n",
      " \n",
      "He’s got a view of what’s better for America.” In upending the traditional dynamics of governance, Mr. Trump has made himself the most dominant figure in American life even as polls show that he is also the most unpopular first-year president in modern history.\n",
      " \n",
      "He is testing the proposition that a president can still effectively remake the country without securing or even seeking a broader mandate.\n",
      " \n",
      "“You’ve got someone who is defining the presidency very differently,” said Michael Beschloss, the presidential historian.\n",
      " \n",
      "“Trump is essentially saying, ‘I’m not going to operate just within the boundaries that the founders might have expected or people might have expected for 200 years.\n",
      " \n",
      "I’m going to operate within the boundaries of what is strictly legal, and I’m going to push those boundaries if I can.’” Not just push.\n",
      " \n",
      "Mr. Trump has shattered boundaries, at least those his predecessors observed.\n",
      " \n",
      "“Everyone else seemed to play within a certain box,” said William M. Daley, who served two presidents, first as a cabinet secretary under Bill Clinton and then as White House chief of staff under Barack Obama.\n",
      " \n",
      "“But this one is totally outside the box.” Advertisement In recent times, most presidents have sought to expand the power of their office, and Mr. Trump has continued that trend.\n",
      " \n",
      "Just as Mr. Obama, frustrated by opposition in Congress, made ambitious use of his executive power, only to be reined in at times by the courts, Mr. Trump has turned to his presidential pen to enact sweeping policies.\n",
      " \n",
      "But he has bristled at the restraints imposed on the presidency as few have, lashing out at judges, lawmakers, investigators and journalists who anger him and expressing frustration that he is not supposed to use the F.B.I.\n",
      " \n",
      "as he sees fit.\n",
      " \n",
      "His sense of government is not based on coalition building or a balancing act between equal branches.\n",
      " \n",
      "It is one where he deems what is necessary and the system should fall in line.\n",
      " \n",
      "As he told The New York Times in recent days, he believes he has an “absolute right” to order the Justice Department to open or close investigations into himself or his foes.\n",
      " \n",
      "Some lawyers say he has a point, that the Constitution gives him wide latitude over the executive branch.\n",
      " \n",
      "But since Watergate, at least, no other president would publicly assert such power in such a raw political fashion, and critics have warned that thwarting the special counsel’s Russia investigation could lead to impeachment proceedings.\n",
      " \n",
      "Talk of “absolute” power and a noted affinity for foreign strongmen have fueled fears of authoritarianism.\n",
      " \n",
      "For the most part, Mr. Trump, with some notable exceptions, has demonstrated more bark than bite.\n",
      " \n",
      "But that bark has become a power unto itself, and the question remains whether he will follow through on his threats in the next stage of his tenure or whether his attacks will prove ultimately self-defeating.\n",
      " \n",
      "Mr. Trump is creating precedents that may outlast his tenure.\n",
      " \n",
      "He is making the presidency more authentic or more autocratic, depending on the vantage point.\n",
      " \n",
      "Either way, it may never be the same.\n",
      " \n",
      "Presidents are human, too, a blend of varying degrees of idealism, generosity, empathy, ambition, ego, vanity, jealousy and anger, but they generally hide their unvarnished traits behind an official veneer.\n",
      " \n",
      "Call it decorum, call it presidential.\n",
      " \n",
      "Mr. Trump essentially calls it fake, making no effort to pretend to be above it all, except to boast that he is stronger, richer, smarter and more successful than anyone else.\n",
      " \n",
      "To him, the presidency is about winning, not governing.\n",
      " \n",
      "The first president never to have served in government or military service, Mr. Trump repeatedly jumps the guardrails that his predecessors heeded.\n",
      " \n",
      "When the mayor of San Juan, P.R., complained about federal recovery efforts after the island was ravaged by Hurricane Maria, Mr. Trump dismissed her as “nasty.” When he did not receive enough gratitude for helping to free three American college basketball players from China, he exclaimed, “I should have left them in jail!” He distorted a comment by the Muslim mayor of London to paint him as soft on terrorism.\n",
      " \n",
      "He accused Mr. Obama of tapping Trump Tower, calling him a “Bad (or sick) guy!” — a claim Mr. Trump’s own Justice Department rejected.\n",
      " \n",
      "He said there were “very fine people on both sides” of a white supremacist rally and counterprotest in Charlottesville, Va.\n",
      " \n",
      "He endorsed an accused child molester for Senate.\n",
      " \n",
      "Advertisement He called various targets of his ire “crazy,” “psycho,” “short and fat,” “crooked,” “totally inept,” “a joke,” “dumb as a rock,” “disgusting,” “puppet,” “weak and out of control,” “sleazy,” “wacky,” “totally unhinged,” “incompetent,” “lightweight” and “the dumbest man on television.” Among others.\n",
      " \n",
      "Even in small ways, Mr. Trump has broken presidential protocol.\n",
      " \n",
      "Presidents generally do not talk about daily gyrations of the stock markets or tout corporate expansion plans, seeing it as inappropriate.\n",
      " \n",
      "But Mr. Trump eagerly trumpets market increases, making them a substitute metric for success given his anemic poll numbers, and claims credit for corporate decisions with the gusto of a mayor or governor, whether related to his policies or not.\n",
      " \n",
      "To supporters, his willingness to say anything and take on anyone comes across as refreshing.\n",
      " \n",
      "“One thing he’s done to the Oval Office and our political culture as a whole is brought a lot more authenticity than people have been used to from politicians,” said Andy Surabian, a senior adviser to the Great America Alliance, a Trump-aligned group.\n",
      " \n",
      "“Whatever you think of him from an ideological point of view, I think for the first time in my lifetime, you have someone in the Oval Office who doesn’t seem plastic.” “You hear all the time he’s not presidential,” he added.\n",
      " \n",
      "“But I say to myself, ‘That’s why he won.’” Other presidents have experimented with how they communicated to the public and were criticized for diminishing the dignity of the office, only to have their innovations become standard fare for their successors.\n",
      " \n",
      "Franklin D. Roosevelt instituted fireside chats on the radio.\n",
      " \n",
      "Dwight D. Eisenhower inaugurated news conferences on television.\n",
      " \n",
      "John F. Kennedy allowed the briefings to be aired live instead of taped and edited.\n",
      " \n",
      "Those presidents, however, did not use their platforms as weapons as Mr. Trump has.\n",
      " \n",
      "And they presided over serious, if sometimes unwieldy, policymaking structures designed to inform their decisions.\n",
      " \n",
      "Mr. Trump’s decisions, announced over Twitter, often seem like spur-of-the-moment reactions to something he has seen on television.\n",
      " \n",
      "“He is a one-man show,” said Shirley Anne Warshaw of Gettysburg College, the author of nine books on presidential decision making.\n",
      " \n",
      "By her count, Mr. Trump has filled only about 350 of 469 positions on the White House staff.\n",
      " \n",
      "“He just doesn’t need them.” Indeed, even those slots do not stay filled for long.\n",
      " \n",
      "A new Brookings Institution study found a 34 percent turnover rate in Mr. Trump’s White House, more than twice as high as any first-year personnel change in the 40 years examined.\n",
      " \n",
      "Advertisement “It’s a presidency of one person,” said Ron Klain, a White House official under Mr. Clinton and Mr. Obama.\n",
      " \n",
      "“That’s really kind of a stunning thing.\n",
      " \n",
      "There is no Trump doctrine.\n",
      " \n",
      "There is no Trump plan.\n",
      " \n",
      "There is no Trumpism.\n",
      " \n",
      "There’s just Trump.\n",
      " \n",
      "Whatever Trump says is what Trump is.\n",
      " \n",
      "No one else speaks for him.”  Please verify you're not a robot by clicking the box.\n",
      " \n",
      "Invalid email address.\n",
      " \n",
      "Please re-enter.\n",
      " \n",
      "You must select a newsletter to subscribe to.\n",
      " \n",
      "View all New York Times newsletters.\n",
      " \n",
      "Even Mr. Kelly, a retired four-star Marine general who took over in July as chief of staff, has met the limits of his ability to guide the president.\n",
      " \n",
      "Rather than seek to control Mr. Trump, Mr. Kelly has tried to control the information that gets to him and make sure it is vetted.\n",
      " \n",
      "The structure he has established resembles that of previous presidents.\n",
      " \n",
      "That does not mean Mr. Trump adheres to it.\n",
      " \n",
      "“I’m not put on earth to control him,” Mr. Kelly said.\n",
      " \n",
      "“But I have been put on earth to make this staff work better and make sure this president, whether you voted for him or not, is fully informed before he makes a decision.\n",
      " \n",
      "And I think we achieved that.” “He remains fairly unconventional,” he added.\n",
      " \n",
      "“But as I point out, he now is fully briefed on the issues and the pluses and minuses, pros and cons.” On three successive days last summer, Mr. Trump made threats to use the power of the government to punish perceived adversaries.\n",
      " \n",
      "He warned that he would eliminate the N.F.L.’s tax break, revoke NBC’s broadcast license and pull recovery workers out of hurricane-ravaged Puerto Rico after criticism of his efforts.\n",
      " \n",
      "Never mind that he could not really carry out such threats — the N.F.L.\n",
      " \n",
      "had already surrendered its tax break, networks like NBC are not licensed and federal law bars recovery workers from leaving a disaster scene prematurely.\n",
      " \n",
      "Over 72 hours, Mr. Trump had nonetheless demonstrated that he had brought his personal mottos, “always get even” and “hit back harder than you were hit,” to the White House.\n",
      " \n",
      "“It’s a war against all.\n",
      " \n",
      "It’s a Beltway bar fight.\n",
      " \n",
      "And you use every possible advantage, every possible weapon,” said Jon Meacham, who has written biographies of multiple presidents.\n",
      " \n",
      "“Will part of the Trump legacy be a permanent state of political and media warfare?\n",
      " \n",
      "I hate to say it — my gut says yeah.\n",
      " \n",
      "But I hope I’m wrong.” Other presidents were not exactly pushovers.\n",
      " \n",
      "Theodore Roosevelt relished taking on tycoons of his era.\n",
      " \n",
      "Lyndon B. Johnson and Richard M. Nixon used government agencies to spy on those who angered them.\n",
      " \n",
      "Mr. Clinton pummeled his tormentor, the independent counsel Kenneth W. Starr, and George W. Bush at times suggested opponents were soft on terrorism.\n",
      " \n",
      "Mr. Johnson, Mr. Nixon, Mr. Bush, Mr. Clinton and Mr. Obama likewise complained bitterly at times about the news media or even threatened or took legal action.\n",
      " \n",
      "But since Watergate, no president has waged the sort of sustained public campaign against what Mr. Trump has called the “enemy of the American people.”  Advertisement Most presidents believed that their role was to lead the country as a whole, not just a faction.\n",
      " \n",
      "They let most slights roll off their back lest they look petty and thin skinned.\n",
      " \n",
      "And outside of campaign season, they generally sought to avoid at least the appearance of divisiveness.\n",
      " \n",
      "“These other presidents all had a kind of regard for the office and they were intent on not besmirching it,” said Robert Dallek, whose biography, “Franklin D. Roosevelt: A Political Life,” was published in November.\n",
      " \n",
      "“This is a man, Trump, who has no compunctions about attacking people in ways that diminish the office of the president.” The president’s supporters would say those people had it coming, that Mr. Trump has simply called out a corrupt establishment.\n",
      " \n",
      "Yet with repeated attacks on “so-called” judges, the “fake news” media, the “laughingstock” justice system, Congress and agencies of his own government, critics say Mr. Trump has degraded the credibility of major institutions.\n",
      " \n",
      "“One way he’s changed the institution is that most presidents see themselves as trustees of the democracy,” said David Axelrod, a senior adviser to Mr. Obama.\n",
      " \n",
      "“And while every president is irritated by the limitations of democracy on them, they all grudgingly accept it.\n",
      " \n",
      "He has not.\n",
      " \n",
      "He has waged war on the institutions of democracy from the beginning, and I think in a very corrosive way.” Mr. Trump’s bellicosity may alienate many voters, but it has kept him a force in Washington beyond what other presidents with approval ratings in the 30s might expect.\n",
      " \n",
      "While lawmakers and lobbyists normally smell weakness in an unpopular White House and disregard its wishes, other players in the capital remain reluctant to cross Mr. Trump lest they find themselves on the wrong end of a Twitter blast.\n",
      " \n",
      "“He’s transformed the bully pulpit like no other president,” said Christopher Ruddy, the chief executive of Newsmax Media and a friend of Mr. Trump’s.\n",
      " \n",
      "“He’s not really been a traditional president on many levels,” but “he’s empowered the president and made the presidency stronger.” Patrick H. Caddell, who served as a strategist for another outsider who won the presidency, Jimmy Carter, and shared research last year with Mr. Trump’s campaign, said he wonders whether there could be a “burnout factor” from so much fighting.\n",
      " \n",
      "“Trump is at war, but I don’t think he’s thought through the war,” he said.\n",
      " \n",
      "“This is not healthy when a president bashes certain institutions or questions the motivations of certain people, though some probably deserve it.\n",
      " \n",
      "Nor is it healthy when the media and the elite question the president’s very character.” If Mr. Trump’s unconventional presidency succeeds, he could set a new paradigm for the presidency.\n",
      " \n",
      "If he fails, it would be a cautionary tale for his successors.\n",
      " \n",
      "Advertisement “There are a lot of changes — whether they are successful in the long run, time will tell,” said Stuart Spencer, who was a longtime adviser to Presidents Gerald R. Ford and Ronald Reagan.\n",
      " \n",
      "“But I’m sure the next president will take note.” The next president may feel compelled to be more interactive with the public even as he or she feels less compelled to release tax returns or White House entry logs because Mr. Trump refused to.\n",
      " \n",
      "The next president may feel more emboldened to take on entrenched interests or less worried about stretching the truth.\n",
      " \n",
      "“If he can get away with it, then why can’t other people?” asked Eliot A. Cohen, a State Department counselor under George W. Bush and one of Mr. Trump’s fiercest Republican critics.\n",
      " \n",
      "“The good news is he’s been so incompetent and he’s got such a short attention span.\n",
      " \n",
      "But what happens if you get Huey Long next time, which would be a lot scarier?” Some critics predict that Mr. Trump will provoke a backlash that will motivate the next president to show that he or she is the opposite.\n",
      " \n",
      "“People are going to want more ethics in government,” said Richard W. Painter, the White House ethics lawyer for Mr. Bush.\n",
      " \n",
      "“They’re going to take conflict of interest more seriously.\n",
      " \n",
      "They’re going to take obstruction of justice more seriously.” Mr. Axelrod agreed, foreseeing a demand for a return to decorum.\n",
      " \n",
      "But, he added, “The question is, ‘Can you do so much damage to public confidence in these institutions that that can’t be restored?’” The presidency has shifted back and forth before.\n",
      " \n",
      "Mr. Carter, seeking to remedy what he saw as Mr. Nixon’s imperial presidency, tried to demystify the office by walking the route of his inaugural parade, carrying his own luggage, selling the presidential yacht and initially eschewing the playing of “Hail to the Chief.” Mr. Reagan made a point of restoring the more ceremonial, regal trappings of the presidency.\n",
      " \n",
      "“Things go in cycles,” said Doris Kearns Goodwin, an author of books on Abraham Lincoln, Kennedy, Johnson and both Roosevelts.\n",
      " \n",
      "“The hope would be that given the American people’s reaction to the way he’s handled the presidency, the people running next time will run in the opposite direction.” Martha Joynt Kumar, a retired professor who has studied the presidency for years from the vantage point of the White House briefing room, said it has adapted to all sorts of changes in society.\n",
      " \n",
      "“The presidency has been a durable institution,” she said, “and I’m betting on it that it can handle almost anything.” Follow Peter Baker on Twitter: @peterbakernyt.\n",
      " \n",
      "A version of this article appears in print on December 31, 2017, on Page A1 of the New York edition with the headline: Under Trump, a Once Unimaginable Presidency Becomes Reality.\n",
      " \n",
      "Order Reprints| Today's Paper|Subscribe   We’re interested in your feedback on this page.\n",
      " \n",
      "Tell us what you think.\n",
      " \n",
      "Go to Home Page »\n",
      " \n"
     ]
    }
   ],
   "source": [
    "# we start by dividing the text into sentences\n",
    "sentences = nltk.sent_tokenize(article) # <-- documentation for this command: http://www.nltk.org/_modules/nltk/tokenize.html\n",
    "\n",
    "# let's print all the sentences, so we can exam the quality of the output\n",
    "for sentence in sentences:\n",
    "    print (sentence)\n",
    "    print (\" \")\n"
   ]
  },
  {
   "cell_type": "code",
   "execution_count": 14,
   "metadata": {
    "collapsed": false,
    "deletable": true,
    "editable": true
   },
   "outputs": [
    {
     "name": "stdout",
     "output_type": "stream",
     "text": [
      "In ways that were once unimaginable, President Trump has discarded the conventions and norms established by his predecessors.\n"
     ]
    }
   ],
   "source": [
    "# let's consider a single sentence - how do we do that? \n",
    "\n",
    "sentence = sentences[0]\n",
    "print (sentence)"
   ]
  },
  {
   "cell_type": "code",
   "execution_count": 15,
   "metadata": {
    "collapsed": false,
    "deletable": true,
    "editable": true
   },
   "outputs": [
    {
     "name": "stdout",
     "output_type": "stream",
     "text": [
      "['In', 'ways', 'that', 'were', 'once', 'unimaginable', ',', 'President', 'Trump', 'has', 'discarded', 'the', 'conventions', 'and', 'norms', 'established', 'by', 'his', 'predecessors', '.']\n"
     ]
    }
   ],
   "source": [
    "# let's divide the sentence in tokens (aka single words)\n",
    "tokenized_sentence = nltk.word_tokenize(sentence)\n",
    "\n",
    "print (tokenized_sentence)"
   ]
  },
  {
   "cell_type": "code",
   "execution_count": 38,
   "metadata": {
    "collapsed": false
   },
   "outputs": [
    {
     "name": "stdout",
     "output_type": "stream",
     "text": [
      "['in', 'ways', 'that', 'were', 'once', 'unimaginable', ',', 'president', 'trump', 'has', 'discarded', 'the', 'conventions', 'and', 'norms', 'established', 'by', 'his', 'predecessors', '.']\n"
     ]
    }
   ],
   "source": [
    "# lower-casing the sentence\n",
    "# without_capital_letters = [word.lower() for word in tokenized_sentence]\n",
    "\n",
    "# print (type(without_capital_letters))\n",
    "\n",
    "# homework: write a for-loop for doing the same thing\n",
    "\n",
    "without_capital_letters = []\n",
    "# print (type(without_capital_letters))\n",
    "\n",
    "for sentence in sentences:\n",
    "    tokenized_sentence = nltk.word_tokenize(sentence)\n",
    "    without_capital_letters = [word.lower() for word in tokenized_sentence]\n",
    "    # print(tokenized_sentence)\n",
    "    print(without_capital_letters)\n",
    "    break"
   ]
  },
  {
   "cell_type": "code",
   "execution_count": 35,
   "metadata": {
    "collapsed": false
   },
   "outputs": [
    {
     "name": "stdout",
     "output_type": "stream",
     "text": [
      "['i', 'me', 'my', 'myself', 'we', 'our', 'ours', 'ourselves', 'you', \"you're\", \"you've\", \"you'll\", \"you'd\", 'your', 'yours', 'yourself', 'yourselves', 'he', 'him', 'his', 'himself', 'she', \"she's\", 'her', 'hers', 'herself', 'it', \"it's\", 'its', 'itself', 'they', 'them', 'their', 'theirs', 'themselves', 'what', 'which', 'who', 'whom', 'this', 'that', \"that'll\", 'these', 'those', 'am', 'is', 'are', 'was', 'were', 'be', 'been', 'being', 'have', 'has', 'had', 'having', 'do', 'does', 'did', 'doing', 'a', 'an', 'the', 'and', 'but', 'if', 'or', 'because', 'as', 'until', 'while', 'of', 'at', 'by', 'for', 'with', 'about', 'against', 'between', 'into', 'through', 'during', 'before', 'after', 'above', 'below', 'to', 'from', 'up', 'down', 'in', 'out', 'on', 'off', 'over', 'under', 'again', 'further', 'then', 'once', 'here', 'there', 'when', 'where', 'why', 'how', 'all', 'any', 'both', 'each', 'few', 'more', 'most', 'other', 'some', 'such', 'no', 'nor', 'not', 'only', 'own', 'same', 'so', 'than', 'too', 'very', 's', 't', 'can', 'will', 'just', 'don', \"don't\", 'should', \"should've\", 'now', 'd', 'll', 'm', 'o', 're', 've', 'y', 'ain', 'aren', \"aren't\", 'couldn', \"couldn't\", 'didn', \"didn't\", 'doesn', \"doesn't\", 'hadn', \"hadn't\", 'hasn', \"hasn't\", 'haven', \"haven't\", 'isn', \"isn't\", 'ma', 'mightn', \"mightn't\", 'mustn', \"mustn't\", 'needn', \"needn't\", 'shan', \"shan't\", 'shouldn', \"shouldn't\", 'wasn', \"wasn't\", 'weren', \"weren't\", 'won', \"won't\", 'wouldn', \"wouldn't\"]\n"
     ]
    }
   ],
   "source": [
    "# removing stopwords\n",
    "\n",
    "# homework: download stopwords <- google it out\n",
    "# import nltk\n",
    "# nltk.download()\n",
    "\n",
    "from nltk.corpus import stopwords\n",
    "\n",
    "stop = stopwords.words('english')\n",
    "\n",
    "# what is \"stop\" ?\n",
    "\n",
    "print(stop)"
   ]
  },
  {
   "cell_type": "code",
   "execution_count": 39,
   "metadata": {
    "collapsed": false
   },
   "outputs": [
    {
     "name": "stdout",
     "output_type": "stream",
     "text": [
      "['ways', 'unimaginable', ',', 'president', 'trump', 'discarded', 'conventions', 'norms', 'established', 'predecessors', '.']\n"
     ]
    }
   ],
   "source": [
    "without_stop_words = [word for word in without_capital_letters if word not in stop]\n",
    "\n",
    "print (without_stop_words)"
   ]
  },
  {
   "cell_type": "code",
   "execution_count": 51,
   "metadata": {
    "collapsed": false
   },
   "outputs": [
    {
     "ename": "SyntaxError",
     "evalue": "invalid syntax (<ipython-input-51-02e27ac1f87e>, line 3)",
     "output_type": "error",
     "traceback": [
      "\u001b[0;36m  File \u001b[0;32m\"<ipython-input-51-02e27ac1f87e>\"\u001b[0;36m, line \u001b[0;32m3\u001b[0m\n\u001b[0;31m    without_punc = words.translate(None, string.punctuation) for words in without_stop_words\u001b[0m\n\u001b[0m                                                               ^\u001b[0m\n\u001b[0;31mSyntaxError\u001b[0m\u001b[0;31m:\u001b[0m invalid syntax\n"
     ]
    }
   ],
   "source": [
    "# homework: how do we exclude punctuation? and numbers?\n",
    "\n",
    "without_punc = words.translate(None, string.punctuation) for words in without_stop_words\n",
    "\n",
    "for words in without_stop_words:\n",
    "    words.translate(None, string.punctuation)\n",
    "\n",
    "# without_punc = without_stop_words.punctuation\n"
   ]
  },
  {
   "cell_type": "code",
   "execution_count": null,
   "metadata": {
    "collapsed": false,
    "deletable": true,
    "editable": true
   },
   "outputs": [],
   "source": []
  }
 ],
 "metadata": {
  "kernelspec": {
   "display_name": "Python 3",
   "language": "python",
   "name": "python3"
  },
  "language_info": {
   "codemirror_mode": {
    "name": "ipython",
    "version": 3
   },
   "file_extension": ".py",
   "mimetype": "text/x-python",
   "name": "python",
   "nbconvert_exporter": "python",
   "pygments_lexer": "ipython3",
   "version": "3.6.5"
  }
 },
 "nbformat": 4,
 "nbformat_minor": 2
}
